{
 "cells": [
  {
   "cell_type": "markdown",
   "metadata": {},
   "source": [
    "# Mean, Median, Mode, and introducing NumPy"
   ]
  },
  {
   "cell_type": "markdown",
   "metadata": {},
   "source": [
    "## Mean vs. Median"
   ]
  },
  {
   "cell_type": "markdown",
   "metadata": {},
   "source": [
    "income data, centered around 27,000 with a normal distribution and standard deviation of 15,000, with 10,000 data points. \n",
    "\n",
    "Then, compute the mean (average) - it should be close to 27,000:"
   ]
  },
  {
   "cell_type": "code",
   "execution_count": 1,
   "metadata": {},
   "outputs": [
    {
     "data": {
      "text/plain": [
       "27094.842062519027"
      ]
     },
     "execution_count": 1,
     "metadata": {},
     "output_type": "execute_result"
    }
   ],
   "source": [
    "import numpy as np\n",
    "\n",
    "incomes = np.random.normal(27000, 15000, 10000)\n",
    "np.mean(incomes)"
   ]
  },
  {
   "cell_type": "markdown",
   "metadata": {},
   "source": [
    "segment the income data into 50 buckets, and plot it as a histogram:"
   ]
  },
  {
   "cell_type": "code",
   "execution_count": 2,
   "metadata": {},
   "outputs": [
    {
     "data": {
      "image/png": "[encoded data removed]",
      "text/plain": [
       "<matplotlib.figure.Figure at 0x10afa6400>"
      ]
     },
     "metadata": {},
     "output_type": "display_data"
    }
   ],
   "source": [
    "%matplotlib inline\n",
    "import matplotlib.pyplot as plt\n",
    "plt.hist(incomes, 50)\n",
    "plt.show()"
   ]
  },
  {
   "cell_type": "markdown",
   "metadata": {},
   "source": [
    "Now compute the median - since we have a nice, even distribution it too should be close to 27,000:"
   ]
  },
  {
   "cell_type": "code",
   "execution_count": 3,
   "metadata": {},
   "outputs": [
    {
     "data": {
      "text/plain": [
       "27162.328825976096"
      ]
     },
     "execution_count": 3,
     "metadata": {},
     "output_type": "execute_result"
    }
   ],
   "source": [
    "np.median(incomes)"
   ]
  },
  {
   "cell_type": "markdown",
   "metadata": {},
   "source": [
    "Adding an outlier"
   ]
  },
  {
   "cell_type": "code",
   "execution_count": 4,
   "metadata": {},
   "outputs": [],
   "source": [
    "incomes = np.append(incomes, [1000000000])"
   ]
  },
  {
   "cell_type": "markdown",
   "metadata": {},
   "source": [
    "The median won't change much, but the mean does:"
   ]
  },
  {
   "cell_type": "code",
   "execution_count": 5,
   "metadata": {},
   "outputs": [
    {
     "data": {
      "text/plain": [
       "27195.884278535214"
      ]
     },
     "execution_count": 5,
     "metadata": {},
     "output_type": "execute_result"
    }
   ],
   "source": [
    "np.median(incomes)"
   ]
  },
  {
   "cell_type": "code",
   "execution_count": 6,
   "metadata": {},
   "outputs": [
    {
     "data": {
      "text/plain": [
       "126993.93098257863"
      ]
     },
     "execution_count": 6,
     "metadata": {},
     "output_type": "execute_result"
    }
   ],
   "source": [
    "np.mean(incomes)"
   ]
  },
  {
   "cell_type": "markdown",
   "metadata": {},
   "source": [
    "## Mode"
   ]
  },
  {
   "cell_type": "markdown",
   "metadata": {},
   "source": [
    " age data for 500 people:"
   ]
  },
  {
   "cell_type": "code",
   "execution_count": 9,
   "metadata": {},
   "outputs": [
    {
     "data": {
      "text/plain": [
       "array([75, 57, 78, 85, 29, 65, 42, 56, 22, 86, 42, 32, 48, 44, 82, 59, 70,\n",
       "       32, 22, 65, 87, 55, 38, 87, 22, 22, 72, 37, 82, 43, 50, 84, 35, 75,\n",
       "       55, 73, 56, 48, 51, 52, 84, 81, 50, 79, 76, 23, 60, 64, 47, 23, 67,\n",
       "       31, 63, 44, 64, 51, 61, 88, 69, 70, 76, 37, 45, 66, 18, 51, 45, 74,\n",
       "       65, 53, 69, 28, 45, 86, 85, 47, 84, 87, 67, 54, 42, 74, 52, 49, 73,\n",
       "       22, 64, 68, 71, 39, 47, 70, 40, 18, 80, 73, 52, 27, 69, 39, 87, 23,\n",
       "       21, 34, 71, 82, 70, 32, 66, 61, 54, 79, 76, 72, 43, 21, 43, 59, 52,\n",
       "       31, 43, 89, 38, 70, 51, 64, 54, 57, 78, 70, 69, 25, 39, 28, 72, 55,\n",
       "       65, 75, 87, 39, 53, 79, 53, 78, 32, 20, 23, 72, 43, 61, 75, 84, 66,\n",
       "       35, 81, 24, 29, 53, 86, 29, 85, 77, 26, 46, 51, 23, 85, 23, 52, 40,\n",
       "       45, 52, 34, 22, 69, 66, 74, 64, 59, 57, 83, 52, 48, 42, 34, 31, 76,\n",
       "       39, 48, 41, 58, 18, 21, 50, 24, 59, 58, 33, 29, 50, 49, 27, 21, 42,\n",
       "       71, 58, 77, 70, 50, 54, 62, 83, 76, 28, 30, 48, 44, 82, 75, 44, 19,\n",
       "       32, 71, 46, 21, 21, 68, 41, 87, 19, 60, 81, 35, 85, 52, 38, 55, 69,\n",
       "       19, 73, 34, 62, 33, 87, 80, 79, 58, 26, 77, 21, 70, 79, 30, 74, 23,\n",
       "       80, 43, 46, 84, 87, 49, 44, 43, 37, 71, 35, 70, 50, 75, 80, 69, 33,\n",
       "       27, 50, 56, 80, 85, 22, 18, 45, 53, 59, 68, 38, 69, 77, 27, 67, 81,\n",
       "       46, 51, 49, 46, 59, 21, 28, 43, 67, 24, 67, 26, 56, 62, 59, 67, 27,\n",
       "       53, 75, 30, 82, 61, 33, 70, 34, 58, 35, 22, 78, 55, 74, 68, 38, 36,\n",
       "       39, 35, 74, 24, 81, 49, 25, 42, 57, 20, 30, 24, 39, 75, 51, 43, 59,\n",
       "       69, 79, 26, 22, 24, 73, 66, 67, 61, 72, 31, 61, 37, 71, 22, 78, 72,\n",
       "       65, 26, 26, 63, 62, 63, 77, 70, 76, 84, 39, 54, 45, 65, 75, 42, 77,\n",
       "       54, 33, 41, 71, 65, 85, 60, 82, 52, 28, 33, 34, 28, 42, 42, 56, 89,\n",
       "       49, 74, 27, 31, 46, 25, 43, 24, 60, 27, 41, 76, 55, 42, 60, 20, 26,\n",
       "       48, 38, 75, 69, 56, 63, 54, 26, 52, 62, 21, 78, 78, 54, 26, 26, 56,\n",
       "       55, 53, 54, 37, 55, 42, 86, 75, 33, 43, 82, 75, 45, 32, 58, 84, 22,\n",
       "       47, 87, 84, 25, 28, 62, 45, 87, 56, 68, 84, 42, 51, 66, 35, 33, 62,\n",
       "       51, 76, 49, 80, 29, 37, 18, 87, 37, 57, 39, 51, 63, 77, 81, 45, 48,\n",
       "       42, 30, 62, 87, 41, 65, 89, 74, 27, 51, 32, 69, 21, 73, 68, 29, 81,\n",
       "       54, 35, 81, 30, 34, 84, 76])"
      ]
     },
     "execution_count": 9,
     "metadata": {},
     "output_type": "execute_result"
    }
   ],
   "source": [
    "ages = np.random.randint(18, high=90, size=500)\n",
    "ages"
   ]
  },
  {
   "cell_type": "code",
   "execution_count": 10,
   "metadata": {},
   "outputs": [
    {
     "data": {
      "text/plain": [
       "ModeResult(mode=array([42]), count=array([13]))"
      ]
     },
     "execution_count": 10,
     "metadata": {},
     "output_type": "execute_result"
    }
   ],
   "source": [
    "from scipy import stats\n",
    "stats.mode(ages)"
   ]
  },
  {
   "cell_type": "code",
   "execution_count": null,
   "metadata": {},
   "outputs": [],
   "source": []
  },
  {
   "cell_type": "code",
   "execution_count": null,
   "metadata": {
    "collapsed": true
   },
   "outputs": [],
   "source": []
  }
 ],
 "metadata": {
  "kernelspec": {
   "display_name": "Python 3",
   "language": "python",
   "name": "python3"
  },
  "language_info": {
   "codemirror_mode": {
    "name": "ipython",
    "version": 3
   },
   "file_extension": ".py",
   "mimetype": "text/x-python",
   "name": "python",
   "nbconvert_exporter": "python",
   "pygments_lexer": "ipython3",
   "version": "3.6.2"
  }
 },
 "nbformat": 4,
 "nbformat_minor": 1
}
